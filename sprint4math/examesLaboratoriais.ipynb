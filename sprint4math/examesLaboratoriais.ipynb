{
 "cells": [
  {
   "cell_type": "code",
   "execution_count": null,
   "metadata": {},
   "outputs": [],
   "source": [
    "# Calculo de Variância e Desvio Padrão Exames Laboratoriais\n",
    "\n",
    "import numpy as np\n",
    "\n",
    "# Dados\n",
    "exames_laboratoriais = [693740, 664093, 694678, 764581, 686988, 764437, 791213]\n",
    "\n",
    "# Calculando a variância\n",
    "variancia = np.var(exames_laboratoriais)\n",
    "\n",
    "# Calculando o desvio padrão\n",
    "desvio_padrao = np.std(exames_laboratoriais)\n",
    "\n",
    "print(\"Variância:\", variancia)\n",
    "print(\"Desvio padrão:\", desvio_padrao)"
   ]
  },
  {
   "cell_type": "code",
   "execution_count": null,
   "metadata": {},
   "outputs": [],
   "source": [
    "# Ajuste de função de 3º grau para Exames Laboratoriais\n",
    "\n",
    "import numpy as np\n",
    "import matplotlib.pyplot as plt\n",
    "\n",
    "# Dados fornecidos\n",
    "anos = np.array([0, 1, 2, 3, 4, 5, 6])\n",
    "exames = np.array([693740, 664093, 694678, 764581, 686988, 764437, 791213])\n",
    "\n",
    "# Ajustar uma função polinomial de 3o grau\n",
    "coeficientes = np.polyfit(anos, exames, 3)\n",
    "\n",
    "# Criar a função polinomial\n",
    "polinomio = np.poly1d(coeficientes)\n",
    "\n",
    "# Exibir a função polinomial\n",
    "print(polinomio)\n",
    "\n",
    "# Gerar pontos para o gráfico\n",
    "anos_fit = np.linspace(0, 6, 100)\n",
    "exames_fit = polinomio(anos_fit)\n",
    "\n",
    "# Plotar os dados originais e o ajuste polinomial\n",
    "plt.scatter(anos, exames, color='red', label='Dados originais')\n",
    "plt.plot(anos_fit, exames_fit, label='Ajuste polinomial de 3o grau')\n",
    "plt.xlabel('Ano')\n",
    "plt.ylabel('Quantidade de Exames')\n",
    "plt.legend()\n",
    "plt.grid(True)\n",
    "plt.show()\n"
   ]
  },
  {
   "cell_type": "code",
   "execution_count": null,
   "metadata": {},
   "outputs": [],
   "source": [
    "# Calculo do valor da derivada para x especificos\n",
    "\n",
    "def f_prime(x):\n",
    "    return 401.7 * x**2 + 2862 * x + 4196\n",
    "\n",
    "for x in range(7):\n",
    "    print(f\"f'({x}) = {f_prime(x)}\")"
   ]
  },
  {
   "cell_type": "code",
   "execution_count": null,
   "metadata": {},
   "outputs": [],
   "source": [
    "# Integral definida da função de 3º grau dos Exames Laboratoriais\n",
    "\n",
    "import numpy as np\n",
    "from scipy.integrate import quad\n",
    "\n",
    "# Coeficientes da função cúbica\n",
    "a = 133.9\n",
    "b = 1431\n",
    "c = 4196 \n",
    "d = 683188\n",
    "\n",
    "# Definição da função cúbica\n",
    "def funcao_cubica(x):\n",
    "    return a*x**3 + b*x**2 + c*x + d\n",
    "\n",
    "# Cálculo da integral definida dos intervalo dos dados fornecidos\n",
    "integral_lab, erro = quad(funcao_cubica, 0, 6)\n",
    "integral_lab1, erro = quad(funcao_cubica, 4, 6)\n",
    "integral_lab2, erro = quad(funcao_cubica, 7, 9)\n",
    "\n",
    "print(f\"A integral definida da função cúbica de 0 a 6 é: {integral_lab:.1f}\")\n",
    "print(f\"A integral definida da função cúbica de 4 a 6 é: {integral_lab1:.1f}\")\n",
    "print(f\"A integral definida da função cúbica de 7 a 9 é: {integral_lab2:.1f}\")"
   ]
  }
 ],
 "metadata": {
  "kernelspec": {
   "display_name": "Python 3",
   "language": "python",
   "name": "python3"
  },
  "language_info": {
   "codemirror_mode": {
    "name": "ipython",
    "version": 3
   },
   "file_extension": ".py",
   "mimetype": "text/x-python",
   "name": "python",
   "nbconvert_exporter": "python",
   "pygments_lexer": "ipython3",
   "version": "3.12.2"
  }
 },
 "nbformat": 4,
 "nbformat_minor": 2
}
