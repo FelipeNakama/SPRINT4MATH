{
 "cells": [
  {
   "cell_type": "code",
   "execution_count": null,
   "metadata": {},
   "outputs": [],
   "source": [
    "# Calculo de Variância e Desvio Padrão Exames de Imagem por Ano\n",
    "\n",
    "import numpy as np\n",
    "\n",
    "# Dados\n",
    "quantidade_exames_imagem = [47450, 45591, 44836, 43361, 32668, 32459, 33014]\n",
    "\n",
    "# Calculando a variância\n",
    "variancia_exames_imagem = np.var(quantidade_exames_imagem)\n",
    "\n",
    "# Calculando o desvio padrão\n",
    "desvio_padrao_exames_imagem = np.std(quantidade_exames_imagem)\n",
    "\n",
    "print(\"Variância dos exames de imagem:\", variancia_exames_imagem)\n",
    "print(\"Desvio padrão dos exames de imagem:\", desvio_padrao_exames_imagem)"
   ]
  },
  {
   "cell_type": "code",
   "execution_count": null,
   "metadata": {},
   "outputs": [],
   "source": [
    "# Ajuste de função de 3º grau para Exames de Imagem por Ano\n",
    "\n",
    "import numpy as np\n",
    "import matplotlib.pyplot as plt\n",
    "\n",
    "# Dados fornecidos\n",
    "anos = np.array([0, 1, 2, 3, 4, 5, 6])\n",
    "quantidade_exames = np.array([47450, 45591, 44836, 43361, 32668, 33459, 33014])\n",
    "\n",
    "# Ajuste do polinômio de 3º grau\n",
    "coeficientes = np.polyfit(anos, quantidade_exames, 3)\n",
    "\n",
    "# A função np.polyfit retorna os coeficientes do polinômio de maior para menor grau\n",
    "a, b, c, d = coeficientes\n",
    "\n",
    "# Criação da função de 3º grau baseada nos coeficientes obtidos\n",
    "def funcao_cubica(x):\n",
    "    return a*x**3 + b*x**2 + c*x + d\n",
    "\n",
    "# Impressão da função ajustada\n",
    "print(f\"A função ajustada é: f(x) = {a:.1f}x^3 + {b:.1f}x^2 + {c:.1f}x + {d:.1f}\")\n",
    "\n",
    "# Para visualizar o ajuste, podemos plotar os dados e a função ajustada\n",
    "x = np.linspace(0, 6, 100)\n",
    "y = funcao_cubica(x)\n",
    "\n",
    "plt.scatter(anos, quantidade_exames, color='red', label='Dados originais')\n",
    "plt.plot(x, y, label='Ajuste polinomial de 3º grau')\n",
    "plt.xlabel('Ano')\n",
    "plt.ylabel('Quantidade de Exames de Imagem')\n",
    "plt.legend()\n",
    "plt.grid(True)\n",
    "plt.show()"
   ]
  },
  {
   "cell_type": "code",
   "execution_count": null,
   "metadata": {},
   "outputs": [],
   "source": [
    "# Calculo do valor da derivada para x especificos\n",
    "\n",
    "def derivada(x):\n",
    "    return 822 * x**2 - 5018 * x + 2892\n",
    "\n",
    "x_values = [0, 1, 2, 3, 4, 5, 6]\n",
    "for x in x_values:\n",
    "    result = derivada(x)\n",
    "    print(f\"A derivada de f({x}) é {result}\")\n"
   ]
  },
  {
   "cell_type": "code",
   "execution_count": null,
   "metadata": {},
   "outputs": [],
   "source": [
    "# Integral definida da função de 3º grau dos exames de imagem\n",
    "\n",
    "import numpy as np\n",
    "from scipy.integrate import quad\n",
    "\n",
    "# Coeficientes da função cúbica\n",
    "a = 274.0000\n",
    "b = -2509.2857\n",
    "c = 2891.8571\n",
    "d = 46737.2857\n",
    "\n",
    "# Definição da função cúbica\n",
    "def funcao_cubica(x):\n",
    "    return a*x**3 + b*x**2 + c*x + d\n",
    "\n",
    "# Cálculo da integral definida dos intervalo dos dados fornecidos\n",
    "integral_total, erro = quad(funcao_cubica, 0, 6)\n",
    "integral_total1, erro = quad(funcao_cubica, 4, 6)\n",
    "integral_total2, erro = quad(funcao_cubica, 7, 9)\n",
    "\n",
    "print(f\"A integral definida da função cúbica de 0 a 6 é: {integral_total:.1f}\")\n",
    "print(f\"A integral definida da função cúbica de 4 a 6 é: {integral_total1:.1f}\")\n",
    "print(f\"A integral definida da função cúbica de 7 a 9 é: {integral_total2:.1f}\")"
   ]
  }
 ],
 "metadata": {
  "kernelspec": {
   "display_name": "Python 3",
   "language": "python",
   "name": "python3"
  },
  "language_info": {
   "codemirror_mode": {
    "name": "ipython",
    "version": 3
   },
   "file_extension": ".py",
   "mimetype": "text/x-python",
   "name": "python",
   "nbconvert_exporter": "python",
   "pygments_lexer": "ipython3",
   "version": "3.12.2"
  }
 },
 "nbformat": 4,
 "nbformat_minor": 2
}
