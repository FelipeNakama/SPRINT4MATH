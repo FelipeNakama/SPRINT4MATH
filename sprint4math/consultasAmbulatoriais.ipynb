{
 "cells": [
  {
   "cell_type": "code",
   "execution_count": null,
   "metadata": {},
   "outputs": [],
   "source": [
    "# Calculo de Variância e Desvio Padrão Consultas Ambulatoriais por Ano\n",
    "\n",
    "import numpy as np\n",
    "\n",
    "# Dados\n",
    "consultas = [78181, 74862, 66554, 74747, 49023, 61349, 59720]\n",
    "\n",
    "# Calculando a variância\n",
    "variancia_consultas = np.var(consultas)\n",
    "\n",
    "# Calculando o desvio padrão\n",
    "desvio_padrao_consultas = np.std(consultas)\n",
    "\n",
    "print(\"Variância das consultas:\", variancia_consultas)\n",
    "print(\"Desvio padrão das consultas:\", desvio_padrao_consultas)"
   ]
  },
  {
   "cell_type": "code",
   "execution_count": null,
   "metadata": {},
   "outputs": [],
   "source": [
    "# Ajuste de função de 3º grau para Consultas Ambulatoriais por Ano\n",
    "\n",
    "import numpy as np\n",
    "import matplotlib.pyplot as plt\n",
    "\n",
    "# Dados\n",
    "anos = np.array([0, 1, 2, 3, 4, 5, 6])\n",
    "consultas = np.array([78181, 74862, 66554, 74747, 49023, 61349, 59720])\n",
    "\n",
    "# Ajuste polinomial de terceiro grau\n",
    "coeficientes = np.polyfit(anos, consultas, 3)\n",
    "funcao = np.poly1d(coeficientes)\n",
    "\n",
    "print(\"Função aproximada:\")\n",
    "print(funcao)\n",
    "\n",
    "# Pontos para plotagem da função\n",
    "anos_plot = np.linspace(0, 6, 100)\n",
    "consultas_plot = funcao(anos_plot)\n",
    "\n",
    "# Plotagem\n",
    "plt.figure(figsize=(10, 6))\n",
    "plt.scatter(anos, consultas, color='red', label='Dados')\n",
    "plt.plot(anos_plot, consultas_plot, color='blue', label='Função de 3º grau')\n",
    "plt.title('Ajuste de função de 3º grau para Consultas Ambulatoriais por Ano')\n",
    "plt.xlabel('Ano')\n",
    "plt.ylabel('Quantidade de Consultas')\n",
    "plt.legend()\n",
    "plt.grid(True)\n",
    "plt.show()"
   ]
  },
  {
   "cell_type": "code",
   "execution_count": null,
   "metadata": {},
   "outputs": [],
   "source": [
    "# Calculo do valor da derivada para x especificos\n",
    "\n",
    "def derivative_f(x):\n",
    "    return 1048.5 * x**2 - 5248 * x + 293.7\n",
    "\n",
    "for x in range(7):\n",
    "    print(f\"f'({x}) = {derivative_f(x)}\")\n"
   ]
  },
  {
   "cell_type": "code",
   "execution_count": null,
   "metadata": {},
   "outputs": [],
   "source": [
    "# Integral definida da função de 3o grau das consultas ambulatoriais\n",
    "\n",
    "from scipy.integrate import quad\n",
    "\n",
    "# Definir a função original\n",
    "def f(x):\n",
    "    return 349.5*x**3 - 2624*x**2 + 293.7*x + 7.756e4\n",
    "\n",
    "# Calcular a integral definida dos intervalos\n",
    "integral, error = quad(f, 0, 6)\n",
    "integral1, error = quad(f, 4, 6)\n",
    "integral2, error = quad(f, 7, 9)\n",
    "\n",
    "print(f\"Integral definida de f(x) de 0 a 6: {integral:.1f}\")\n",
    "print(f\"Integral definida de f(x) de 4 a 6: {integral1:.1f}\")\n",
    "print(f\"Integral definida de f(x) de 7 a 9: {integral2:.1f}\")"
   ]
  }
 ],
 "metadata": {
  "kernelspec": {
   "display_name": "Python 3",
   "language": "python",
   "name": "python3"
  },
  "language_info": {
   "codemirror_mode": {
    "name": "ipython",
    "version": 3
   },
   "file_extension": ".py",
   "mimetype": "text/x-python",
   "name": "python",
   "nbconvert_exporter": "python",
   "pygments_lexer": "ipython3",
   "version": "3.12.2"
  }
 },
 "nbformat": 4,
 "nbformat_minor": 2
}
